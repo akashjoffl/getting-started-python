{
 "cells": [
  {
   "cell_type": "markdown",
   "metadata": {
    "slideshow": {
     "slide_type": "slide"
    }
   },
   "source": [
    "<center><h1> Getting Started with Python </h1>\n",
    "<center><img src=\"images/python.png\" alt=\"Python\"></center>\n",
    "<center><img src=\"images/fa_academy_r.png\" alt=\"Python\"></center>\n",
    "<h4>Marco A. Gutierrez</h4>\n"
   ]
  },
  {
   "cell_type": "markdown",
   "metadata": {
    "slideshow": {
     "slide_type": "slide"
    }
   },
   "source": [
    "<h1><center>FOSSASIA Academy</center></h1>"
   ]
  },
  {
   "cell_type": "markdown",
   "metadata": {
    "slideshow": {
     "slide_type": "subslide"
    }
   },
   "source": [
    "## &nbsp; &nbsp; &nbsp; &nbsp; - Educate\n",
    "## &nbsp; &nbsp; &nbsp; &nbsp; - Code\n",
    "## &nbsp; &nbsp; &nbsp; &nbsp; - Employ"
   ]
  },
  {
   "cell_type": "markdown",
   "metadata": {
    "slideshow": {
     "slide_type": "subslide"
    }
   },
   "source": [
    "## &nbsp; &nbsp; &nbsp; &nbsp; Educate\n",
    "## &nbsp; &nbsp; &nbsp; &nbsp; - Courses\n",
    "## &nbsp; &nbsp; &nbsp; &nbsp; - Training\n",
    "## &nbsp; &nbsp; &nbsp; &nbsp; - Certification"
   ]
  },
  {
   "cell_type": "markdown",
   "metadata": {
    "slideshow": {
     "slide_type": "subslide"
    }
   },
   "source": [
    "<center><img src=\"images/workshop.jpg\" alt=\"workshop\"></center>"
   ]
  },
  {
   "cell_type": "markdown",
   "metadata": {
    "slideshow": {
     "slide_type": "subslide"
    }
   },
   "source": [
    "## &nbsp; &nbsp; &nbsp; &nbsp; Coding\n",
    "## &nbsp; &nbsp; &nbsp; &nbsp; - Codeheat contest\n",
    "## &nbsp; &nbsp; &nbsp; &nbsp; - Developer programs\n",
    "## &nbsp; &nbsp; &nbsp; &nbsp; - Hackathons"
   ]
  },
  {
   "cell_type": "markdown",
   "metadata": {
    "slideshow": {
     "slide_type": "subslide"
    }
   },
   "source": [
    "<center><img src=\"images/hackathon.png\" alt=\"hackathon\"></center>"
   ]
  },
  {
   "cell_type": "markdown",
   "metadata": {
    "slideshow": {
     "slide_type": "subslide"
    }
   },
   "source": [
    "## &nbsp; &nbsp; &nbsp; &nbsp; Employ\n",
    "## &nbsp; &nbsp; &nbsp; &nbsp; - Internship\n",
    "## &nbsp; &nbsp; &nbsp; &nbsp; - Entrepeneurship\n",
    "## &nbsp; &nbsp; &nbsp; &nbsp; - Jobs"
   ]
  },
  {
   "cell_type": "markdown",
   "metadata": {
    "slideshow": {
     "slide_type": "slide"
    }
   },
   "source": [
    "<h1><center>Pycon World</center></h1>"
   ]
  },
  {
   "cell_type": "markdown",
   "metadata": {
    "slideshow": {
     "slide_type": "slide"
    }
   },
   "source": [
    "<h1><center>Why Python?</center></h1>"
   ]
  },
  {
   "cell_type": "markdown",
   "metadata": {
    "slideshow": {
     "slide_type": "subslide"
    }
   },
   "source": [
    "## &nbsp; &nbsp; &nbsp; &nbsp; - Statistics, data analysis, ML, AI and related methods\n",
    "## &nbsp; &nbsp; &nbsp; &nbsp; - Automation\n",
    "## &nbsp; &nbsp; &nbsp; &nbsp; - Build blockchain\n",
    "## &nbsp; &nbsp; &nbsp; &nbsp; - Web\n",
    "## &nbsp; &nbsp; &nbsp; &nbsp; - Rapid prototyping"
   ]
  },
  {
   "cell_type": "markdown",
   "metadata": {
    "slideshow": {
     "slide_type": "slide"
    }
   },
   "source": [
    "<h1><center>Why Artificial Intelligence?</center></h1>"
   ]
  },
  {
   "cell_type": "markdown",
   "metadata": {
    "slideshow": {
     "slide_type": "subslide"
    }
   },
   "source": [
    "## &nbsp; &nbsp; &nbsp; &nbsp; - Robots\n",
    "## &nbsp; &nbsp; &nbsp; &nbsp; - Self Driving Cars\n",
    "## &nbsp; &nbsp; &nbsp; &nbsp; - Cancer detection systems\n",
    "## &nbsp; &nbsp; &nbsp; &nbsp; - Image processing\n",
    "## &nbsp; &nbsp; &nbsp; &nbsp; - Play games"
   ]
  },
  {
   "cell_type": "markdown",
   "metadata": {
    "slideshow": {
     "slide_type": "subslide"
    }
   },
   "source": [
    "# Top Jobs in 2020: \n",
    "\n",
    "#### &nbsp; &nbsp; &nbsp; &nbsp;1.- Artificial intelligence\n",
    "#### &nbsp; &nbsp; &nbsp; &nbsp;2.- Robotics\n",
    "#### &nbsp; &nbsp; &nbsp; &nbsp;2.- Data Science\n",
    "\n",
    "<h4><div align=\"right\"><a href=\"https://www.businessinsider.sg/linkedin-emerging-jobs-in-high-demand-in-2020-2019-12/\">businessinsider.com</a> </div></h4>"
   ]
  },
  {
   "cell_type": "markdown",
   "metadata": {
    "slideshow": {
     "slide_type": "slide"
    }
   },
   "source": [
    "<center><h1> Python AI: Neural Networks </h1>\n",
    "<img src=\"images/NN.png\" alt=\"Data Science\"></center>"
   ]
  },
  {
   "cell_type": "code",
   "execution_count": null,
   "metadata": {
    "slideshow": {
     "slide_type": "slide"
    }
   },
   "outputs": [],
   "source": [
    "import keras\n",
    "from numpy import array\n",
    "\n",
    "(X_train, y_train), (X_test, y_test) = keras.datasets.imdb.load_data(num_words=5000)\n",
    "word_to_id = keras.datasets.imdb.get_word_index()\n",
    "word_to_id = {k:(v+3) for k,v in word_to_id.items()}\n",
    "X_train = keras.preprocessing.sequence.pad_sequences(X_train, maxlen=500) \n",
    "X_test = keras.preprocessing.sequence.pad_sequences(X_test, maxlen=500) \n",
    "model = keras.models.Sequential() \n",
    "model.add(keras.layers.Embedding(5000, 32, input_length=500)) \n",
    "model.add(keras.layers.Flatten()) \n",
    "model.add(keras.layers.Dense(1, activation='sigmoid')) \n",
    "model.compile(loss='binary_crossentropy',optimizer='adam', metrics=['accuracy']) \n",
    "model.fit(X_train, y_train, validation_data=(X_test, y_test), epochs=3, batch_size=64)"
   ]
  },
  {
   "cell_type": "code",
   "execution_count": null,
   "metadata": {
    "slideshow": {
     "slide_type": "slide"
    }
   },
   "outputs": [],
   "source": [
    "scores = model.evaluate(X_test, y_test, verbose=0) \n",
    "print(\"Accuracy: %.2f%%\" % (scores[1]*100))"
   ]
  },
  {
   "cell_type": "code",
   "execution_count": null,
   "metadata": {
    "slideshow": {
     "slide_type": "slide"
    }
   },
   "outputs": [],
   "source": [
    "sentence = input()\n",
    "tmp = []\n",
    "for word in sentence.split(\" \"):\n",
    "    tmp.append(word_to_id[word])\n",
    "tmp_padded = keras.preprocessing.sequence.pad_sequences([tmp], maxlen=500) \n",
    "prediction = model.predict(array([tmp_padded][0]))[0][0] \n",
    "print('Sentiment: %s %s' % (prediction, u\"\\U0001F44D\" if prediction > 0.5 else u\"\\U0001F44E\"))"
   ]
  },
  {
   "cell_type": "markdown",
   "metadata": {
    "slideshow": {
     "slide_type": "slide"
    }
   },
   "source": [
    "<center><h1> Python AI: Hack the web, get data </h1>\n",
    "<img src=\"images/data_science.png\" alt=\"Data Science\"></center>"
   ]
  },
  {
   "cell_type": "code",
   "execution_count": null,
   "metadata": {
    "slideshow": {
     "slide_type": "subslide"
    }
   },
   "outputs": [],
   "source": [
    "from requests import get\n",
    "from bs4 import BeautifulSoup\n",
    "\n",
    "names = []\n",
    "\n",
    "html_soup = BeautifulSoup(get('http://www.imdb.com/search/title?release_date=2017&sort=num_votes,desc&page=1').text, 'html.parser')\n",
    "moives = html_soup.find_all('div', attrs={'class': 'lister-item mode-advanced'})\n",
    "\n",
    "for container in moives:\n",
    "        # Scrape the name\n",
    "        name = container.h3.a.text\n",
    "        names.append(name)\n",
    "        \n",
    "names[0:15]"
   ]
  },
  {
   "cell_type": "markdown",
   "metadata": {
    "slideshow": {
     "slide_type": "subslide"
    }
   },
   "source": [
    "<h1><center>But... How?</center></h1>\n",
    "<center><img src=\"images/wtf.jpg\" alt=\"wtf\"></center>"
   ]
  },
  {
   "cell_type": "markdown",
   "metadata": {
    "slideshow": {
     "slide_type": "subslide"
    }
   },
   "source": [
    "<h1><center>Learn the ways of Python you must...</center></h1>\n",
    "\n",
    "<center><img src=\"images/yoda.png\" alt=\"yoda\"></center>"
   ]
  },
  {
   "cell_type": "markdown",
   "metadata": {
    "slideshow": {
     "slide_type": "slide"
    }
   },
   "source": [
    "<h1><center>Free Python AI Workshops!</center></h1>\n",
    "<br>\n",
    "<center><img src=\"images/omg.gif\" alt=\"OMG!\"></center>"
   ]
  },
  {
   "cell_type": "markdown",
   "metadata": {
    "slideshow": {
     "slide_type": "slide"
    }
   },
   "source": [
    "<center><h1> Thanks! </h1>\n",
    "<h4> Marco A. Gutiérrez </h4>\n",
    "<h4> marcogg@marcogg.com </h4>\n",
    "<h4> academy@fossasia.com </h4>"
   ]
  }
 ],
 "metadata": {
  "celltoolbar": "Slideshow",
  "kernelspec": {
   "display_name": "Python 3",
   "language": "python",
   "name": "python3"
  },
  "language_info": {
   "codemirror_mode": {
    "name": "ipython",
    "version": 3
   },
   "file_extension": ".py",
   "mimetype": "text/x-python",
   "name": "python",
   "nbconvert_exporter": "python",
   "pygments_lexer": "ipython3",
   "version": "3.6.8"
  },
  "livereveal": {
   "autolaunch": true
  },
  "rise": {
   "theme": "sky"
  },
  "toc": {
   "base_numbering": 1,
   "nav_menu": {},
   "number_sections": false,
   "sideBar": true,
   "skip_h1_title": false,
   "title_cell": "Table of Contents",
   "title_sidebar": "Contents",
   "toc_cell": false,
   "toc_position": {},
   "toc_section_display": true,
   "toc_window_display": false
  }
 },
 "nbformat": 4,
 "nbformat_minor": 2
}
